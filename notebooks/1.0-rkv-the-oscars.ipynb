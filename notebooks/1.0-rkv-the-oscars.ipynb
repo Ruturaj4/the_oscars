{
 "cells": [
  {
   "cell_type": "markdown",
   "metadata": {},
   "source": [
    "# The Oscars\n",
    "\n",
    "## Great stories and great visual effects\n",
    "\n",
    "#### Author: Ruturaj Kiran Vaidya"
   ]
  },
  {
   "cell_type": "markdown",
   "metadata": {},
   "source": [
    "#### Data Source:\n",
    "\n",
    "I selected the soccer dataset used in previous projects, as it has a lot of features to work with and it will be great for visualizations.\n",
    "\n",
    "<ul>\n",
    "<li>Dataset: <a>https://github.com/fivethirtyeight/data/tree/master/soccer-spi</a></li>\n",
    "\n",
    "<li>Specific Dataset Link: <a>https://projects.fivethirtyeight.com/soccer-api/club/spi_matches.csv</a></li>\n",
    "</ul>"
   ]
  },
  {
   "cell_type": "code",
   "execution_count": 3,
   "metadata": {},
   "outputs": [],
   "source": [
    "# Imports\n",
    "import pandas as pd"
   ]
  },
  {
   "cell_type": "markdown",
   "metadata": {},
   "source": [
    "### Importing Dataset"
   ]
  },
  {
   "cell_type": "code",
   "execution_count": 4,
   "metadata": {},
   "outputs": [],
   "source": [
    "matches = pd.read_csv(\"../data/external/spi_matches.csv\")"
   ]
  },
  {
   "cell_type": "code",
   "execution_count": 8,
   "metadata": {},
   "outputs": [
    {
     "name": "stdout",
     "output_type": "stream",
     "text": [
      "(32278, 22)\n",
      "(13044, 22)\n"
     ]
    }
   ],
   "source": [
    "print(matches.shape)\n",
    "# Dropping NAs\n",
    "matches.dropna(inplace = True)\n",
    "matches.drop_duplicates(inplace=True)\n",
    "# It's true that the dataset disfigures, but we need to do this anyways for end analysis\n",
    "print(matches.shape)"
   ]
  },
  {
   "cell_type": "code",
   "execution_count": 9,
   "metadata": {},
   "outputs": [
    {
     "data": {
      "text/html": [
       "<div>\n",
       "<style scoped>\n",
       "    .dataframe tbody tr th:only-of-type {\n",
       "        vertical-align: middle;\n",
       "    }\n",
       "\n",
       "    .dataframe tbody tr th {\n",
       "        vertical-align: top;\n",
       "    }\n",
       "\n",
       "    .dataframe thead th {\n",
       "        text-align: right;\n",
       "    }\n",
       "</style>\n",
       "<table border=\"1\" class=\"dataframe\">\n",
       "  <thead>\n",
       "    <tr style=\"text-align: right;\">\n",
       "      <th></th>\n",
       "      <th>date</th>\n",
       "      <th>league_id</th>\n",
       "      <th>league</th>\n",
       "      <th>team1</th>\n",
       "      <th>team2</th>\n",
       "      <th>spi1</th>\n",
       "      <th>spi2</th>\n",
       "      <th>prob1</th>\n",
       "      <th>prob2</th>\n",
       "      <th>probtie</th>\n",
       "      <th>...</th>\n",
       "      <th>importance1</th>\n",
       "      <th>importance2</th>\n",
       "      <th>score1</th>\n",
       "      <th>score2</th>\n",
       "      <th>xg1</th>\n",
       "      <th>xg2</th>\n",
       "      <th>nsxg1</th>\n",
       "      <th>nsxg2</th>\n",
       "      <th>adj_score1</th>\n",
       "      <th>adj_score2</th>\n",
       "    </tr>\n",
       "  </thead>\n",
       "  <tbody>\n",
       "    <tr>\n",
       "      <th>27120</th>\n",
       "      <td>2019-11-13</td>\n",
       "      <td>2105</td>\n",
       "      <td>Brasileiro Série A</td>\n",
       "      <td>Flamengo</td>\n",
       "      <td>Vasco da Gama</td>\n",
       "      <td>73.70</td>\n",
       "      <td>50.52</td>\n",
       "      <td>0.7759</td>\n",
       "      <td>0.0638</td>\n",
       "      <td>0.1603</td>\n",
       "      <td>...</td>\n",
       "      <td>8.6</td>\n",
       "      <td>0.6</td>\n",
       "      <td>4.0</td>\n",
       "      <td>4.0</td>\n",
       "      <td>2.28</td>\n",
       "      <td>2.29</td>\n",
       "      <td>1.37</td>\n",
       "      <td>1.06</td>\n",
       "      <td>4.20</td>\n",
       "      <td>4.20</td>\n",
       "    </tr>\n",
       "    <tr>\n",
       "      <th>27121</th>\n",
       "      <td>2019-11-15</td>\n",
       "      <td>1948</td>\n",
       "      <td>Australian A-League</td>\n",
       "      <td>Central Coast Mariners</td>\n",
       "      <td>Adelaide United</td>\n",
       "      <td>16.31</td>\n",
       "      <td>29.50</td>\n",
       "      <td>0.2657</td>\n",
       "      <td>0.4943</td>\n",
       "      <td>0.2400</td>\n",
       "      <td>...</td>\n",
       "      <td>15.1</td>\n",
       "      <td>24.0</td>\n",
       "      <td>1.0</td>\n",
       "      <td>3.0</td>\n",
       "      <td>1.76</td>\n",
       "      <td>3.10</td>\n",
       "      <td>1.08</td>\n",
       "      <td>2.34</td>\n",
       "      <td>1.05</td>\n",
       "      <td>3.15</td>\n",
       "    </tr>\n",
       "    <tr>\n",
       "      <th>27122</th>\n",
       "      <td>2019-11-16</td>\n",
       "      <td>1948</td>\n",
       "      <td>Australian A-League</td>\n",
       "      <td>Western United</td>\n",
       "      <td>Newcastle Jets</td>\n",
       "      <td>29.66</td>\n",
       "      <td>28.35</td>\n",
       "      <td>0.4613</td>\n",
       "      <td>0.2883</td>\n",
       "      <td>0.2504</td>\n",
       "      <td>...</td>\n",
       "      <td>21.2</td>\n",
       "      <td>24.9</td>\n",
       "      <td>0.0</td>\n",
       "      <td>1.0</td>\n",
       "      <td>1.43</td>\n",
       "      <td>1.22</td>\n",
       "      <td>2.32</td>\n",
       "      <td>1.33</td>\n",
       "      <td>0.00</td>\n",
       "      <td>1.05</td>\n",
       "    </tr>\n",
       "    <tr>\n",
       "      <th>27150</th>\n",
       "      <td>2019-11-16</td>\n",
       "      <td>2105</td>\n",
       "      <td>Brasileiro Série A</td>\n",
       "      <td>Santos</td>\n",
       "      <td>São Paulo</td>\n",
       "      <td>63.23</td>\n",
       "      <td>56.22</td>\n",
       "      <td>0.5011</td>\n",
       "      <td>0.2056</td>\n",
       "      <td>0.2933</td>\n",
       "      <td>...</td>\n",
       "      <td>1.0</td>\n",
       "      <td>0.0</td>\n",
       "      <td>1.0</td>\n",
       "      <td>1.0</td>\n",
       "      <td>1.45</td>\n",
       "      <td>1.29</td>\n",
       "      <td>0.54</td>\n",
       "      <td>2.27</td>\n",
       "      <td>1.05</td>\n",
       "      <td>1.05</td>\n",
       "    </tr>\n",
       "    <tr>\n",
       "      <th>27151</th>\n",
       "      <td>2019-11-16</td>\n",
       "      <td>2105</td>\n",
       "      <td>Brasileiro Série A</td>\n",
       "      <td>Fluminense</td>\n",
       "      <td>Atletico Mineiro</td>\n",
       "      <td>51.87</td>\n",
       "      <td>53.38</td>\n",
       "      <td>0.5337</td>\n",
       "      <td>0.2273</td>\n",
       "      <td>0.2390</td>\n",
       "      <td>...</td>\n",
       "      <td>67.5</td>\n",
       "      <td>5.7</td>\n",
       "      <td>1.0</td>\n",
       "      <td>1.0</td>\n",
       "      <td>0.96</td>\n",
       "      <td>0.62</td>\n",
       "      <td>1.38</td>\n",
       "      <td>0.85</td>\n",
       "      <td>1.05</td>\n",
       "      <td>1.05</td>\n",
       "    </tr>\n",
       "  </tbody>\n",
       "</table>\n",
       "<p>5 rows × 22 columns</p>\n",
       "</div>"
      ],
      "text/plain": [
       "             date  league_id               league                   team1  \\\n",
       "27120  2019-11-13       2105   Brasileiro Série A                Flamengo   \n",
       "27121  2019-11-15       1948  Australian A-League  Central Coast Mariners   \n",
       "27122  2019-11-16       1948  Australian A-League          Western United   \n",
       "27150  2019-11-16       2105   Brasileiro Série A                  Santos   \n",
       "27151  2019-11-16       2105   Brasileiro Série A              Fluminense   \n",
       "\n",
       "                  team2   spi1   spi2   prob1   prob2  probtie  ...  \\\n",
       "27120     Vasco da Gama  73.70  50.52  0.7759  0.0638   0.1603  ...   \n",
       "27121   Adelaide United  16.31  29.50  0.2657  0.4943   0.2400  ...   \n",
       "27122    Newcastle Jets  29.66  28.35  0.4613  0.2883   0.2504  ...   \n",
       "27150         São Paulo  63.23  56.22  0.5011  0.2056   0.2933  ...   \n",
       "27151  Atletico Mineiro  51.87  53.38  0.5337  0.2273   0.2390  ...   \n",
       "\n",
       "       importance1  importance2  score1  score2   xg1   xg2  nsxg1  nsxg2  \\\n",
       "27120          8.6          0.6     4.0     4.0  2.28  2.29   1.37   1.06   \n",
       "27121         15.1         24.0     1.0     3.0  1.76  3.10   1.08   2.34   \n",
       "27122         21.2         24.9     0.0     1.0  1.43  1.22   2.32   1.33   \n",
       "27150          1.0          0.0     1.0     1.0  1.45  1.29   0.54   2.27   \n",
       "27151         67.5          5.7     1.0     1.0  0.96  0.62   1.38   0.85   \n",
       "\n",
       "       adj_score1  adj_score2  \n",
       "27120        4.20        4.20  \n",
       "27121        1.05        3.15  \n",
       "27122        0.00        1.05  \n",
       "27150        1.05        1.05  \n",
       "27151        1.05        1.05  \n",
       "\n",
       "[5 rows x 22 columns]"
      ]
     },
     "execution_count": 9,
     "metadata": {},
     "output_type": "execute_result"
    }
   ],
   "source": [
    "matches.tail()"
   ]
  },
  {
   "cell_type": "code",
   "execution_count": 10,
   "metadata": {},
   "outputs": [
    {
     "data": {
      "text/plain": [
       "Index(['date', 'league_id', 'league', 'team1', 'team2', 'spi1', 'spi2',\n",
       "       'prob1', 'prob2', 'probtie', 'proj_score1', 'proj_score2',\n",
       "       'importance1', 'importance2', 'score1', 'score2', 'xg1', 'xg2', 'nsxg1',\n",
       "       'nsxg2', 'adj_score1', 'adj_score2'],\n",
       "      dtype='object')"
      ]
     },
     "execution_count": 10,
     "metadata": {},
     "output_type": "execute_result"
    }
   ],
   "source": [
    "matches.keys()"
   ]
  },
  {
   "cell_type": "code",
   "execution_count": null,
   "metadata": {},
   "outputs": [],
   "source": []
  }
 ],
 "metadata": {
  "kernelspec": {
   "display_name": "Python 3",
   "language": "python",
   "name": "python3"
  },
  "language_info": {
   "codemirror_mode": {
    "name": "ipython",
    "version": 3
   },
   "file_extension": ".py",
   "mimetype": "text/x-python",
   "name": "python",
   "nbconvert_exporter": "python",
   "pygments_lexer": "ipython3",
   "version": "3.6.8"
  }
 },
 "nbformat": 4,
 "nbformat_minor": 2
}
