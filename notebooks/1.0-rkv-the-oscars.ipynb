{
 "cells": [
  {
   "cell_type": "markdown",
   "metadata": {},
   "source": [
    "# The Oscars\n",
    "\n",
    "## Great stories and great visual effects\n",
    "\n",
    "#### Author: Ruturaj Kiran Vaidya"
   ]
  },
  {
   "cell_type": "markdown",
   "metadata": {},
   "source": [
    "#### Data Source:\n",
    "\n",
    "I selected the soccer dataset used in previous projects, as it has a lot of features to work with and it will be great for visualizations.\n",
    "\n",
    "<ul>\n",
    "<li>Dataset: <a>https://github.com/fivethirtyeight/data/tree/master/soccer-spi</a></li>\n",
    "\n",
    "<li>Specific Dataset Link: <a>https://projects.fivethirtyeight.com/soccer-api/club/spi_matches.csv</a></li>\n",
    "</ul>"
   ]
  },
  {
   "cell_type": "markdown",
   "metadata": {},
   "source": [
    "#### Idea: In addition to what has been instructed, I decided to use different plot libraries - to test their graphs, code in general. Also it's so much fun!"
   ]
  },
  {
   "cell_type": "code",
   "execution_count": 1,
   "metadata": {},
   "outputs": [],
   "source": [
    "# Imports\n",
    "import pandas as pd\n",
    "import matplotlib.pyplot as plt\n",
    "pd.plotting.register_matplotlib_converters()\n",
    "import numpy as np"
   ]
  },
  {
   "cell_type": "markdown",
   "metadata": {},
   "source": [
    "### Importing Dataset"
   ]
  },
  {
   "cell_type": "code",
   "execution_count": 2,
   "metadata": {},
   "outputs": [],
   "source": [
    "matches = pd.read_csv(\"../data/external/spi_matches.csv\")"
   ]
  },
  {
   "cell_type": "code",
   "execution_count": 3,
   "metadata": {},
   "outputs": [
    {
     "name": "stdout",
     "output_type": "stream",
     "text": [
      "(32286, 22)\n",
      "(13164, 22)\n"
     ]
    }
   ],
   "source": [
    "print(matches.shape)\n",
    "# Dropping NAs\n",
    "matches.dropna(inplace = True)\n",
    "matches.drop_duplicates(inplace=True)\n",
    "# It's true that the dataset disfigures, but we need to do this anyways for end analysis\n",
    "print(matches.shape)"
   ]
  },
  {
   "cell_type": "code",
   "execution_count": 4,
   "metadata": {},
   "outputs": [
    {
     "data": {
      "text/html": [
       "<div>\n",
       "<style scoped>\n",
       "    .dataframe tbody tr th:only-of-type {\n",
       "        vertical-align: middle;\n",
       "    }\n",
       "\n",
       "    .dataframe tbody tr th {\n",
       "        vertical-align: top;\n",
       "    }\n",
       "\n",
       "    .dataframe thead th {\n",
       "        text-align: right;\n",
       "    }\n",
       "</style>\n",
       "<table border=\"1\" class=\"dataframe\">\n",
       "  <thead>\n",
       "    <tr style=\"text-align: right;\">\n",
       "      <th></th>\n",
       "      <th>date</th>\n",
       "      <th>league_id</th>\n",
       "      <th>league</th>\n",
       "      <th>team1</th>\n",
       "      <th>team2</th>\n",
       "      <th>spi1</th>\n",
       "      <th>spi2</th>\n",
       "      <th>prob1</th>\n",
       "      <th>prob2</th>\n",
       "      <th>probtie</th>\n",
       "      <th>...</th>\n",
       "      <th>importance1</th>\n",
       "      <th>importance2</th>\n",
       "      <th>score1</th>\n",
       "      <th>score2</th>\n",
       "      <th>xg1</th>\n",
       "      <th>xg2</th>\n",
       "      <th>nsxg1</th>\n",
       "      <th>nsxg2</th>\n",
       "      <th>adj_score1</th>\n",
       "      <th>adj_score2</th>\n",
       "    </tr>\n",
       "  </thead>\n",
       "  <tbody>\n",
       "    <tr>\n",
       "      <th>27398</th>\n",
       "      <td>2019-11-24</td>\n",
       "      <td>2105</td>\n",
       "      <td>Brasileiro Série A</td>\n",
       "      <td>Ceará</td>\n",
       "      <td>São Paulo</td>\n",
       "      <td>50.83</td>\n",
       "      <td>58.03</td>\n",
       "      <td>0.4722</td>\n",
       "      <td>0.2304</td>\n",
       "      <td>0.2974</td>\n",
       "      <td>...</td>\n",
       "      <td>58.6</td>\n",
       "      <td>0.0</td>\n",
       "      <td>1.0</td>\n",
       "      <td>1.0</td>\n",
       "      <td>1.45</td>\n",
       "      <td>1.10</td>\n",
       "      <td>2.18</td>\n",
       "      <td>1.25</td>\n",
       "      <td>1.05</td>\n",
       "      <td>1.05</td>\n",
       "    </tr>\n",
       "    <tr>\n",
       "      <th>27399</th>\n",
       "      <td>2019-11-24</td>\n",
       "      <td>5641</td>\n",
       "      <td>Argentina Primera Division</td>\n",
       "      <td>Banfield</td>\n",
       "      <td>Velez Sarsfield</td>\n",
       "      <td>45.18</td>\n",
       "      <td>49.89</td>\n",
       "      <td>0.3604</td>\n",
       "      <td>0.3395</td>\n",
       "      <td>0.3001</td>\n",
       "      <td>...</td>\n",
       "      <td>0.1</td>\n",
       "      <td>24.1</td>\n",
       "      <td>1.0</td>\n",
       "      <td>0.0</td>\n",
       "      <td>1.18</td>\n",
       "      <td>0.68</td>\n",
       "      <td>1.22</td>\n",
       "      <td>0.94</td>\n",
       "      <td>1.05</td>\n",
       "      <td>0.00</td>\n",
       "    </tr>\n",
       "    <tr>\n",
       "      <th>27400</th>\n",
       "      <td>2019-11-24</td>\n",
       "      <td>5641</td>\n",
       "      <td>Argentina Primera Division</td>\n",
       "      <td>Gimnasia La Plata</td>\n",
       "      <td>Arsenal Sarandi</td>\n",
       "      <td>39.86</td>\n",
       "      <td>41.82</td>\n",
       "      <td>0.4214</td>\n",
       "      <td>0.3207</td>\n",
       "      <td>0.2579</td>\n",
       "      <td>...</td>\n",
       "      <td>0.0</td>\n",
       "      <td>2.5</td>\n",
       "      <td>0.0</td>\n",
       "      <td>1.0</td>\n",
       "      <td>0.42</td>\n",
       "      <td>1.03</td>\n",
       "      <td>0.94</td>\n",
       "      <td>0.95</td>\n",
       "      <td>0.00</td>\n",
       "      <td>1.05</td>\n",
       "    </tr>\n",
       "    <tr>\n",
       "      <th>27401</th>\n",
       "      <td>2019-11-24</td>\n",
       "      <td>5641</td>\n",
       "      <td>Argentina Primera Division</td>\n",
       "      <td>Talleres de Córdoba</td>\n",
       "      <td>Racing Club</td>\n",
       "      <td>41.86</td>\n",
       "      <td>52.61</td>\n",
       "      <td>0.2983</td>\n",
       "      <td>0.4110</td>\n",
       "      <td>0.2908</td>\n",
       "      <td>...</td>\n",
       "      <td>2.3</td>\n",
       "      <td>36.1</td>\n",
       "      <td>3.0</td>\n",
       "      <td>3.0</td>\n",
       "      <td>3.46</td>\n",
       "      <td>1.50</td>\n",
       "      <td>1.17</td>\n",
       "      <td>0.93</td>\n",
       "      <td>3.15</td>\n",
       "      <td>3.15</td>\n",
       "    </tr>\n",
       "    <tr>\n",
       "      <th>27402</th>\n",
       "      <td>2019-11-24</td>\n",
       "      <td>1952</td>\n",
       "      <td>Mexican Primera Division Torneo Apertura</td>\n",
       "      <td>FC Juárez</td>\n",
       "      <td>Tigres UANL</td>\n",
       "      <td>33.13</td>\n",
       "      <td>56.53</td>\n",
       "      <td>0.1562</td>\n",
       "      <td>0.5786</td>\n",
       "      <td>0.2652</td>\n",
       "      <td>...</td>\n",
       "      <td>0.0</td>\n",
       "      <td>88.5</td>\n",
       "      <td>1.0</td>\n",
       "      <td>2.0</td>\n",
       "      <td>1.12</td>\n",
       "      <td>0.72</td>\n",
       "      <td>0.71</td>\n",
       "      <td>0.76</td>\n",
       "      <td>1.05</td>\n",
       "      <td>2.10</td>\n",
       "    </tr>\n",
       "  </tbody>\n",
       "</table>\n",
       "<p>5 rows × 22 columns</p>\n",
       "</div>"
      ],
      "text/plain": [
       "             date  league_id                                    league  \\\n",
       "27398  2019-11-24       2105                        Brasileiro Série A   \n",
       "27399  2019-11-24       5641                Argentina Primera Division   \n",
       "27400  2019-11-24       5641                Argentina Primera Division   \n",
       "27401  2019-11-24       5641                Argentina Primera Division   \n",
       "27402  2019-11-24       1952  Mexican Primera Division Torneo Apertura   \n",
       "\n",
       "                     team1            team2   spi1   spi2   prob1   prob2  \\\n",
       "27398                Ceará        São Paulo  50.83  58.03  0.4722  0.2304   \n",
       "27399             Banfield  Velez Sarsfield  45.18  49.89  0.3604  0.3395   \n",
       "27400    Gimnasia La Plata  Arsenal Sarandi  39.86  41.82  0.4214  0.3207   \n",
       "27401  Talleres de Córdoba      Racing Club  41.86  52.61  0.2983  0.4110   \n",
       "27402            FC Juárez      Tigres UANL  33.13  56.53  0.1562  0.5786   \n",
       "\n",
       "       probtie  ...  importance1  importance2  score1  score2   xg1   xg2  \\\n",
       "27398   0.2974  ...         58.6          0.0     1.0     1.0  1.45  1.10   \n",
       "27399   0.3001  ...          0.1         24.1     1.0     0.0  1.18  0.68   \n",
       "27400   0.2579  ...          0.0          2.5     0.0     1.0  0.42  1.03   \n",
       "27401   0.2908  ...          2.3         36.1     3.0     3.0  3.46  1.50   \n",
       "27402   0.2652  ...          0.0         88.5     1.0     2.0  1.12  0.72   \n",
       "\n",
       "       nsxg1  nsxg2  adj_score1  adj_score2  \n",
       "27398   2.18   1.25        1.05        1.05  \n",
       "27399   1.22   0.94        1.05        0.00  \n",
       "27400   0.94   0.95        0.00        1.05  \n",
       "27401   1.17   0.93        3.15        3.15  \n",
       "27402   0.71   0.76        1.05        2.10  \n",
       "\n",
       "[5 rows x 22 columns]"
      ]
     },
     "execution_count": 4,
     "metadata": {},
     "output_type": "execute_result"
    }
   ],
   "source": [
    "matches.tail()"
   ]
  },
  {
   "cell_type": "code",
   "execution_count": 5,
   "metadata": {},
   "outputs": [
    {
     "data": {
      "text/plain": [
       "Index(['date', 'league_id', 'league', 'team1', 'team2', 'spi1', 'spi2',\n",
       "       'prob1', 'prob2', 'probtie', 'proj_score1', 'proj_score2',\n",
       "       'importance1', 'importance2', 'score1', 'score2', 'xg1', 'xg2', 'nsxg1',\n",
       "       'nsxg2', 'adj_score1', 'adj_score2'],\n",
       "      dtype='object')"
      ]
     },
     "execution_count": 5,
     "metadata": {},
     "output_type": "execute_result"
    }
   ],
   "source": [
    "matches.keys()"
   ]
  },
  {
   "cell_type": "markdown",
   "metadata": {},
   "source": [
    "### The art of storytelling!"
   ]
  },
  {
   "cell_type": "markdown",
   "metadata": {},
   "source": [
    "There are a lot of leagues all over the world. It is interesing to see how many leagues are there and how many teams are played in the major league. It is to be noted that teams relegate and promote from the leagues (national leagues). Also, there's a qualification process for champians and Europa leagues. Hence, below diagram shows total number of teams participated."
   ]
  },
  {
   "cell_type": "code",
   "execution_count": 6,
   "metadata": {
    "scrolled": true
   },
   "outputs": [
    {
     "data": {
      "image/png": "[encoded data removed]",
      "text/plain": [
       "<Figure size 1080x360 with 1 Axes>"
      ]
     },
     "metadata": {
      "needs_background": "light"
     },
     "output_type": "display_data"
    }
   ],
   "source": [
    "dic = {k:[] for k in matches.league.unique()}\n",
    "[dic[i[0]].extend([i[1], i[2]]) for i in zip(matches.league, matches.team1, matches.team2)]\n",
    "dic = {k:len(set(v)) for k,v in dic.items()}\n",
    "\n",
    "plt.figure(figsize=(15, 5))\n",
    "y_pos = np.arange(len(dic.keys()))\n",
    "plt.barh(y_pos, list(dic.values()), color = \"#cc3399\")\n",
    "plt.yticks(y_pos, list(dic.keys()))\n",
    "plt.xlabel(\"Total Number of Teams Participated\")\n",
    "plt.show()"
   ]
  },
  {
   "cell_type": "markdown",
   "metadata": {},
   "source": [
    "It is also interesting to see how many matches are played per league."
   ]
  },
  {
   "cell_type": "code",
   "execution_count": 29,
   "metadata": {},
   "outputs": [
    {
     "data": {
      "image/png": "[encoded data removed]",
      "text/plain": [
       "<Figure size 1080x360 with 1 Axes>"
      ]
     },
     "metadata": {
      "needs_background": "light"
     },
     "output_type": "display_data"
    }
   ],
   "source": [
    "dic = matches.league.value_counts().to_dict()\n",
    "\n",
    "plt.figure(figsize=(15, 5))\n",
    "y_pos = np.arange(len(dic.keys()))\n",
    "plt.barh(y_pos, list(dic.values()), color = \"#00cc00\")\n",
    "plt.yticks(y_pos, list(dic.keys()))\n",
    "plt.xlabel(\"Total Number of Matches Played\")\n",
    "plt.show()"
   ]
  },
  {
   "cell_type": "code",
   "execution_count": null,
   "metadata": {},
   "outputs": [],
   "source": []
  }
 ],
 "metadata": {
  "kernelspec": {
   "display_name": "Python 3",
   "language": "python",
   "name": "python3"
  },
  "language_info": {
   "codemirror_mode": {
    "name": "ipython",
    "version": 3
   },
   "file_extension": ".py",
   "mimetype": "text/x-python",
   "name": "python",
   "nbconvert_exporter": "python",
   "pygments_lexer": "ipython3",
   "version": "3.7.2"
  }
 },
 "nbformat": 4,
 "nbformat_minor": 2
}
